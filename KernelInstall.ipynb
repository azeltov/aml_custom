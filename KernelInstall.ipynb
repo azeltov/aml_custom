{
 "cells": [
  {
   "cell_type": "code",
   "execution_count": 10,
   "metadata": {
    "execution": {
     "iopub.execute_input": "2020-09-08T17:02:26.796579Z",
     "iopub.status.busy": "2020-09-08T17:02:26.796269Z",
     "iopub.status.idle": "2020-09-08T17:02:26.800682Z",
     "shell.execute_reply": "2020-09-08T17:02:26.800023Z",
     "shell.execute_reply.started": "2020-09-08T17:02:26.796536Z"
    }
   },
   "outputs": [],
   "source": [
    "CONDA_ENV_NAME = 'synapse4'\n",
    "KERNEL_DISPLAY_NAME = 'SynapseAml4'"
   ]
  },
  {
   "cell_type": "code",
   "execution_count": 11,
   "metadata": {
    "execution": {
     "iopub.execute_input": "2020-09-08T17:02:27.415985Z",
     "iopub.status.busy": "2020-09-08T17:02:27.415705Z",
     "iopub.status.idle": "2020-09-08T17:02:40.049187Z",
     "shell.execute_reply": "2020-09-08T17:02:40.048377Z",
     "shell.execute_reply.started": "2020-09-08T17:02:27.415959Z"
    }
   },
   "outputs": [
    {
     "name": "stdout",
     "output_type": "stream",
     "text": [
      "Solving environment: done\n",
      "\n",
      "\n",
      "==> WARNING: A newer version of conda exists. <==\n",
      "  current version: 4.5.12\n",
      "  latest version: 4.8.4\n",
      "\n",
      "Please update conda by running\n",
      "\n",
      "    $ conda update -n base -c defaults conda\n",
      "\n",
      "\n",
      "\n",
      "## Package Plan ##\n",
      "\n",
      "  environment location: /anaconda/envs/synapse4\n",
      "\n",
      "  added / updated specs: \n",
      "    - python=3.6\n",
      "\n",
      "\n",
      "The following NEW packages will be INSTALLED:\n",
      "\n",
      "    _libgcc_mutex:    0.1-main               \n",
      "    ca-certificates:  2020.7.22-0            \n",
      "    certifi:          2020.6.20-py36_0       \n",
      "    ld_impl_linux-64: 2.33.1-h53a641e_7      \n",
      "    libedit:          3.1.20191231-h14c3975_1\n",
      "    libffi:           3.3-he6710b0_2         \n",
      "    libgcc-ng:        9.1.0-hdf63c60_0       \n",
      "    libstdcxx-ng:     9.1.0-hdf63c60_0       \n",
      "    ncurses:          6.2-he6710b0_1         \n",
      "    openssl:          1.1.1g-h7b6447c_0      \n",
      "    pip:              20.2.2-py36_0          \n",
      "    python:           3.6.10-h7579374_2      \n",
      "    readline:         8.0-h7b6447c_0         \n",
      "    setuptools:       49.6.0-py36_0          \n",
      "    sqlite:           3.33.0-h62c20be_0      \n",
      "    tk:               8.6.10-hbc83047_0      \n",
      "    wheel:            0.35.1-py_0            \n",
      "    xz:               5.2.5-h7b6447c_0       \n",
      "    zlib:             1.2.11-h7b6447c_3      \n",
      "\n",
      "Preparing transaction: done\n",
      "Verifying transaction: done\n",
      "Executing transaction: done\n",
      "#\n",
      "# To activate this environment, use:\n",
      "# > source activate synapse4\n",
      "#\n",
      "# To deactivate an active environment, use:\n",
      "# > source deactivate\n",
      "#\n",
      "\n",
      "\n",
      "Note: you may need to restart the kernel to use updated packages.\n"
     ]
    }
   ],
   "source": [
    "%conda create --name {CONDA_ENV_NAME}  python=3.6 -y"
   ]
  },
  {
   "cell_type": "code",
   "execution_count": 12,
   "metadata": {
    "execution": {
     "iopub.execute_input": "2020-09-08T17:02:40.050837Z",
     "iopub.status.busy": "2020-09-08T17:02:40.050474Z",
     "iopub.status.idle": "2020-09-08T17:02:49.569555Z",
     "shell.execute_reply": "2020-09-08T17:02:49.568597Z",
     "shell.execute_reply.started": "2020-09-08T17:02:40.050789Z"
    }
   },
   "outputs": [
    {
     "name": "stdout",
     "output_type": "stream",
     "text": [
      "Solving environment: done\n",
      "\n",
      "\n",
      "==> WARNING: A newer version of conda exists. <==\n",
      "  current version: 4.5.12\n",
      "  latest version: 4.8.4\n",
      "\n",
      "Please update conda by running\n",
      "\n",
      "    $ conda update -n base -c defaults conda\n",
      "\n",
      "\n",
      "\n",
      "## Package Plan ##\n",
      "\n",
      "  environment location: /anaconda/envs/synapse4\n",
      "\n",
      "  added / updated specs: \n",
      "    - ipykernel\n",
      "\n",
      "\n",
      "The following NEW packages will be INSTALLED:\n",
      "\n",
      "    backcall:         0.2.0-py_0           \n",
      "    decorator:        4.4.2-py_0           \n",
      "    ipykernel:        5.3.4-py36h5ca1d4c_0 \n",
      "    ipython:          7.16.1-py36h5ca1d4c_0\n",
      "    ipython_genutils: 0.2.0-py36_0         \n",
      "    jedi:             0.17.2-py36_0        \n",
      "    jupyter_client:   6.1.6-py_0           \n",
      "    jupyter_core:     4.6.3-py36_0         \n",
      "    libsodium:        1.0.18-h7b6447c_0    \n",
      "    parso:            0.7.0-py_0           \n",
      "    pexpect:          4.8.0-py36_0         \n",
      "    pickleshare:      0.7.5-py36_0         \n",
      "    prompt-toolkit:   3.0.7-py_0           \n",
      "    ptyprocess:       0.6.0-py36_0         \n",
      "    pygments:         2.6.1-py_0           \n",
      "    python-dateutil:  2.8.1-py_0           \n",
      "    pyzmq:            19.0.1-py36he6710b0_1\n",
      "    six:              1.15.0-py_0          \n",
      "    tornado:          6.0.4-py36h7b6447c_1 \n",
      "    traitlets:        4.3.3-py36_0         \n",
      "    wcwidth:          0.2.5-py_0           \n",
      "    zeromq:           4.3.2-he6710b0_2     \n",
      "\n",
      "Preparing transaction: done\n",
      "Verifying transaction: done\n",
      "Executing transaction: done\n",
      "\n",
      "Note: you may need to restart the kernel to use updated packages.\n"
     ]
    }
   ],
   "source": [
    "%conda install -n {CONDA_ENV_NAME} ipykernel -y"
   ]
  },
  {
   "cell_type": "code",
   "execution_count": 13,
   "metadata": {
    "execution": {
     "iopub.execute_input": "2020-09-08T17:02:49.571383Z",
     "iopub.status.busy": "2020-09-08T17:02:49.571130Z",
     "iopub.status.idle": "2020-09-08T17:02:50.265644Z",
     "shell.execute_reply": "2020-09-08T17:02:50.264719Z",
     "shell.execute_reply.started": "2020-09-08T17:02:49.571339Z"
    }
   },
   "outputs": [
    {
     "name": "stdout",
     "output_type": "stream",
     "text": [
      "Installed kernelspec synapse4 in /home/azureuser/.local/share/jupyter/kernels/synapse4\n"
     ]
    }
   ],
   "source": [
    "!/anaconda/envs/{CONDA_ENV_NAME}/bin/python -m ipykernel install --user --name {CONDA_ENV_NAME} --display-name \"{KERNEL_DISPLAY_NAME}\""
   ]
  },
  {
   "cell_type": "code",
   "execution_count": null,
   "metadata": {},
   "outputs": [],
   "source": []
  }
 ],
 "metadata": {
  "kernelspec": {
   "display_name": "Python 3",
   "language": "python",
   "name": "python3"
  },
  "language_info": {
   "codemirror_mode": {
    "name": "ipython",
    "version": 3
   },
   "file_extension": ".py",
   "mimetype": "text/x-python",
   "name": "python",
   "nbconvert_exporter": "python",
   "pygments_lexer": "ipython3",
   "version": "3.6.9"
  }
 },
 "nbformat": 4,
 "nbformat_minor": 4
}
